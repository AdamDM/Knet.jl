{
 "cells": [
  {
   "cell_type": "markdown",
   "metadata": {},
   "source": [
    "# Character based RNN language model trained on 'The Complete Works of William Shakespeare'\n",
    "Based on http://karpathy.github.io/2015/05/21/rnn-effectiveness"
   ]
  },
  {
   "cell_type": "code",
   "execution_count": 82,
   "metadata": {},
   "outputs": [],
   "source": [
    "using Knet\n",
    "BATCHSIZE = 256\n",
    "SEQLENGTH = 100\n",
    "INPUTSIZE = 168\n",
    "VOCABSIZE = 84\n",
    "HIDDENSIZE = 334\n",
    "NUMLAYERS = 1\n",
    "DROPOUT = 0.0\n",
    "LR=0.001\n",
    "BETA_1=0.9\n",
    "BETA_2=0.999\n",
    "EPS=1e-08\n",
    "EPOCHS = 50;"
   ]
  },
  {
   "cell_type": "code",
   "execution_count": 83,
   "metadata": {},
   "outputs": [
    {
     "data": {
      "text/plain": [
       "(\"4925284-element Array{UInt8,1}\", \"525665-element Array{UInt8,1}\", \"84-element Array{Char,1}\")"
      ]
     },
     "execution_count": 83,
     "metadata": {},
     "output_type": "execute_result"
    }
   ],
   "source": [
    "# Load 'The Complete Works of William Shakespeare'\n",
    "include(Pkg.dir(\"Knet\",\"data\",\"gutenberg.jl\"))\n",
    "trn,tst,chars = shakespeare()\n",
    "map(summary,(trn,tst,chars))"
   ]
  },
  {
   "cell_type": "code",
   "execution_count": 84,
   "metadata": {},
   "outputs": [
    {
     "name": "stdout",
     "output_type": "stream",
     "text": [
      "    Cheated of feature by dissembling nature,\r\n",
      "    Deform'd, unfinish'd, sent before my time\r\n",
      "    Into this breathing world scarce half made up,\r\n",
      "    And that so lamely and unfashionable\r\n",
      "   \n"
     ]
    }
   ],
   "source": [
    "# Print a sample\n",
    "println(string(chars[trn[1020:1210]]...)) "
   ]
  },
  {
   "cell_type": "code",
   "execution_count": 85,
   "metadata": {},
   "outputs": [],
   "source": [
    "# Minibatch data\n",
    "function mb(a)\n",
    "    N = div(length(a),BATCHSIZE)\n",
    "    x = reshape(a[1:N*BATCHSIZE],N,BATCHSIZE)' # reshape full data to (B,N) with contiguous rows\n",
    "    minibatch(x[:,1:N-1], x[:,2:N], SEQLENGTH) # split into (B,T) blocks \n",
    "end\n",
    "dtrn,dtst = mb(trn),mb(tst)\n",
    "map(length, (dtrn,dtst))"
   ]
  },
  {
   "cell_type": "code",
   "execution_count": 86,
   "metadata": {},
   "outputs": [],
   "source": [
    "# Define model\n",
    "function initmodel()\n",
    "    w(d...)=KnetArray(xavier(Float32,d...))\n",
    "    b(d...)=KnetArray(zeros(Float32,d...))\n",
    "    r,wr = rnninit(INPUTSIZE,HIDDENSIZE,numLayers=NUMLAYERS,dropout=DROPOUT)\n",
    "    wx = w(INPUTSIZE,VOCABSIZE)\n",
    "    wy = w(VOCABSIZE,HIDDENSIZE)\n",
    "    by = b(VOCABSIZE,1)\n",
    "    r,(wr,wx,wy,by)\n",
    "end;"
   ]
  },
  {
   "cell_type": "code",
   "execution_count": 87,
   "metadata": {},
   "outputs": [],
   "source": [
    "# Define loss and its gradient\n",
    "function predict(r,ws,xs,hx,cx)\n",
    "    wr,wx,wy,by = ws\n",
    "    x = wx[:,xs]                                    # xs=(B,T) x=(X,B,T)\n",
    "    y,hy,cy = rnnforw(r,wr,x,hx,cx,hy=true,cy=true) # y=(H,B,T) hy=cy=(H,B,L)\n",
    "    y2 = reshape(y,size(y,1),size(y,2)*size(y,3))   # y2=(H,B*T)\n",
    "    return wy*y2.+by, hy, cy\n",
    "end\n",
    "\n",
    "function loss(r,w,x,y,h)\n",
    "    py,hy,cy = predict(r,w,x,h...)\n",
    "    h[1],h[2] = getval(hy),getval(cy)\n",
    "    return nll(py,y)\n",
    "end\n",
    "\n",
    "lossgradient = gradloss(loss,2);"
   ]
  },
  {
   "cell_type": "code",
   "execution_count": 88,
   "metadata": {},
   "outputs": [],
   "source": [
    "function train(rnn,weights,data,optim)\n",
    "    hiddens = Any[nothing,nothing]\n",
    "    losses = []\n",
    "    for (x,y) in data\n",
    "        grads,loss1 = lossgradient(rnn,weights,x,y,hiddens)\n",
    "        update!(weights, grads, optim)\n",
    "        push!(losses, loss1)\n",
    "    end\n",
    "    return mean(losses)\n",
    "end\n",
    "\n",
    "function test(rnn,weights,data)\n",
    "    hiddens = Any[nothing,nothing]\n",
    "    losses = []\n",
    "    for (x,y) in data\n",
    "        push!(losses, loss(rnn,weights,x,y,hiddens))\n",
    "    end\n",
    "    return mean(losses)\n",
    "end; "
   ]
  },
  {
   "cell_type": "code",
   "execution_count": 89,
   "metadata": {},
   "outputs": [],
   "source": [
    "# Initialize model\n",
    "rnn=weights=optim=nothing; knetgc()\n",
    "rnn,weights = initmodel()\n",
    "optim = optimizers(weights, Adam; lr=LR, beta1=BETA_1, beta2=BETA_2, eps=EPS);"
   ]
  },
  {
   "cell_type": "code",
   "execution_count": 90,
   "metadata": {
    "scrolled": true
   },
   "outputs": [
    {
     "name": "stderr",
     "output_type": "stream",
     "text": [
      "\u001b[1m\u001b[36mINFO: \u001b[39m\u001b[22m\u001b[36mTraining...\n",
      "\u001b[39m"
     ]
    },
    {
     "name": "stdout",
     "output_type": "stream",
     "text": [
      " 18.386971 seconds (234.39 k allocations: 131.457 MiB, 0.04% gc time)\n",
      "  0.625695 seconds (38.05 k allocations: 10.695 MiB)\n",
      "(:epoch, 1, :trnppl, 17.069067f0, :tstppl, 8.832048f0)\n",
      " 18.843587 seconds (214.38 k allocations: 130.405 MiB, 0.04% gc time)\n",
      "  0.564837 seconds (8.04 k allocations: 9.036 MiB, 0.16% gc time)\n",
      "(:epoch, 2, :trnppl, 7.3479204f0, :tstppl, 6.5189676f0)\n",
      " 18.204367 seconds (215.41 k allocations: 130.420 MiB, 0.03% gc time)\n",
      "  0.573242 seconds (4.40 k allocations: 8.980 MiB)\n",
      "(:epoch, 3, :trnppl, 5.9228806f0, :tstppl, 5.6123896f0)\n",
      " 18.287730 seconds (216.25 k allocations: 130.433 MiB, 0.03% gc time)\n",
      "  0.572192 seconds (7.45 k allocations: 9.027 MiB, 0.15% gc time)\n",
      "(:epoch, 4, :trnppl, 5.2358246f0, :tstppl, 5.093068f0)\n",
      " 18.305785 seconds (213.11 k allocations: 130.385 MiB, 0.03% gc time)\n",
      "  0.570167 seconds (8.25 k allocations: 9.039 MiB, 0.16% gc time)\n",
      "(:epoch, 5, :trnppl, 4.7901196f0, :tstppl, 4.7554827f0)\n",
      " 18.321947 seconds (216.21 k allocations: 130.433 MiB, 0.03% gc time)\n",
      "  0.575171 seconds (4.40 k allocations: 8.980 MiB)\n",
      "(:epoch, 6, :trnppl, 4.4790187f0, :tstppl, 4.499582f0)\n",
      " 18.340983 seconds (216.17 k allocations: 130.432 MiB, 0.03% gc time)\n",
      "  0.574114 seconds (7.74 k allocations: 9.031 MiB, 0.20% gc time)\n",
      "(:epoch, 7, :trnppl, 4.2454424f0, :tstppl, 4.3031178f0)\n",
      " 18.357516 seconds (216.82 k allocations: 130.442 MiB, 0.04% gc time)\n",
      "  0.575745 seconds (4.40 k allocations: 8.980 MiB)\n",
      "(:epoch, 8, :trnppl, 4.0619874f0, :tstppl, 4.149874f0)\n",
      " 18.379185 seconds (216.16 k allocations: 130.432 MiB, 0.03% gc time)\n",
      "  0.575698 seconds (4.40 k allocations: 8.980 MiB)\n",
      "(:epoch, 9, :trnppl, 3.9183183f0, :tstppl, 4.0201097f0)\n",
      " 18.400017 seconds (216.17 k allocations: 130.432 MiB, 0.03% gc time)\n",
      "  0.578581 seconds (7.93 k allocations: 9.034 MiB, 0.18% gc time)\n",
      "(:epoch, 10, :trnppl, 3.8029122f0, :tstppl, 3.9244146f0)\n",
      " 18.362122 seconds (216.63 k allocations: 130.439 MiB, 0.03% gc time)\n",
      "  0.576332 seconds (4.40 k allocations: 8.980 MiB)\n",
      "(:epoch, 11, :trnppl, 3.7072334f0, :tstppl, 3.840969f0)\n",
      " 18.427095 seconds (216.17 k allocations: 130.432 MiB, 0.03% gc time)\n",
      "  0.572270 seconds (4.40 k allocations: 8.980 MiB)\n",
      "(:epoch, 12, :trnppl, 3.6286864f0, :tstppl, 3.7725823f0)\n",
      " 18.416989 seconds (216.25 k allocations: 130.433 MiB, 0.04% gc time)\n",
      "  0.579138 seconds (8.04 k allocations: 9.036 MiB, 0.17% gc time)\n",
      "(:epoch, 13, :trnppl, 3.561821f0, :tstppl, 3.7180746f0)\n",
      " 18.420312 seconds (216.43 k allocations: 130.436 MiB, 0.03% gc time)\n",
      "  0.580285 seconds (4.40 k allocations: 8.980 MiB)\n",
      "(:epoch, 14, :trnppl, 3.504703f0, :tstppl, 3.6677291f0)\n",
      " 18.394854 seconds (216.17 k allocations: 130.432 MiB, 0.03% gc time)\n",
      "  0.576366 seconds (7.54 k allocations: 9.028 MiB, 0.16% gc time)\n",
      "(:epoch, 15, :trnppl, 3.4560814f0, :tstppl, 3.6264255f0)\n",
      " 18.411241 seconds (213.11 k allocations: 130.385 MiB, 0.03% gc time)\n",
      "  0.575326 seconds (8.23 k allocations: 9.039 MiB, 0.16% gc time)\n",
      "(:epoch, 16, :trnppl, 3.414155f0, :tstppl, 3.5923662f0)\n",
      " 18.400098 seconds (216.23 k allocations: 130.433 MiB, 0.03% gc time)\n",
      "  0.578069 seconds (4.40 k allocations: 8.980 MiB)\n",
      "(:epoch, 17, :trnppl, 3.3743868f0, :tstppl, 3.5571122f0)\n",
      " 18.388404 seconds (216.17 k allocations: 130.432 MiB, 0.03% gc time)\n",
      "  0.579656 seconds (7.74 k allocations: 9.031 MiB, 0.15% gc time)\n",
      "(:epoch, 18, :trnppl, 3.3395886f0, :tstppl, 3.5296772f0)\n",
      " 18.385791 seconds (216.82 k allocations: 130.442 MiB, 0.03% gc time)\n",
      "  0.579436 seconds (4.40 k allocations: 8.980 MiB)\n",
      "(:epoch, 19, :trnppl, 3.308146f0, :tstppl, 3.5037775f0)\n",
      " 18.384105 seconds (216.16 k allocations: 130.432 MiB, 0.03% gc time)\n",
      "  0.576607 seconds (4.40 k allocations: 8.980 MiB)\n",
      "(:epoch, 20, :trnppl, 3.2799258f0, :tstppl, 3.479148f0)\n",
      " 18.403028 seconds (216.17 k allocations: 130.432 MiB, 0.03% gc time)\n",
      "  0.577384 seconds (7.93 k allocations: 9.034 MiB, 0.16% gc time)\n",
      "(:epoch, 21, :trnppl, 3.2553945f0, :tstppl, 3.4588916f0)\n",
      " 18.381332 seconds (216.63 k allocations: 130.439 MiB, 0.03% gc time)\n",
      "  0.579466 seconds (4.40 k allocations: 8.980 MiB)\n",
      "(:epoch, 22, :trnppl, 3.2319224f0, :tstppl, 3.4413586f0)\n",
      " 18.385645 seconds (216.17 k allocations: 130.432 MiB, 0.03% gc time)\n",
      "  0.576320 seconds (4.40 k allocations: 8.980 MiB)\n",
      "(:epoch, 23, :trnppl, 3.2089062f0, :tstppl, 3.4246411f0)\n",
      " 18.378618 seconds (216.25 k allocations: 130.433 MiB, 0.03% gc time)\n",
      "  0.575587 seconds (8.04 k allocations: 9.036 MiB, 0.16% gc time)\n",
      "(:epoch, 24, :trnppl, 3.1882377f0, :tstppl, 3.4104202f0)\n",
      " 18.370573 seconds (216.43 k allocations: 130.436 MiB, 0.03% gc time)\n",
      "  0.578005 seconds (4.40 k allocations: 8.980 MiB)\n",
      "(:epoch, 25, :trnppl, 3.1690562f0, :tstppl, 3.3958685f0)\n",
      " 18.391373 seconds (216.17 k allocations: 130.432 MiB, 0.03% gc time)\n",
      "  0.578129 seconds (7.54 k allocations: 9.028 MiB, 0.16% gc time)\n",
      "(:epoch, 26, :trnppl, 3.1515064f0, :tstppl, 3.3820004f0)\n",
      " 18.393833 seconds (213.11 k allocations: 130.385 MiB, 0.03% gc time)\n",
      "  0.574152 seconds (8.23 k allocations: 9.039 MiB, 0.17% gc time)\n",
      "(:epoch, 27, :trnppl, 3.134776f0, :tstppl, 3.373104f0)\n",
      " 18.373409 seconds (216.23 k allocations: 130.433 MiB, 0.03% gc time)\n",
      "  0.574370 seconds (4.40 k allocations: 8.980 MiB)\n",
      "(:epoch, 28, :trnppl, 3.1204903f0, :tstppl, 3.364677f0)\n",
      " 18.403286 seconds (216.17 k allocations: 130.432 MiB, 0.03% gc time)\n",
      "  0.578394 seconds (7.74 k allocations: 9.031 MiB, 0.18% gc time)\n",
      "(:epoch, 29, :trnppl, 3.105897f0, :tstppl, 3.3535228f0)\n",
      " 18.368687 seconds (216.82 k allocations: 130.442 MiB, 0.03% gc time)\n",
      "  0.577466 seconds (4.40 k allocations: 8.980 MiB)\n",
      "(:epoch, 30, :trnppl, 3.0916853f0, :tstppl, 3.347708f0)\n",
      " 18.353547 seconds (216.16 k allocations: 130.432 MiB, 0.03% gc time)\n",
      "  0.573432 seconds (4.40 k allocations: 8.980 MiB)\n",
      "(:epoch, 31, :trnppl, 3.0793324f0, :tstppl, 3.3397288f0)\n",
      " 18.362670 seconds (216.17 k allocations: 130.432 MiB, 0.03% gc time)\n",
      "  0.578742 seconds (7.93 k allocations: 9.034 MiB, 0.17% gc time)\n",
      "(:epoch, 32, :trnppl, 3.0687025f0, :tstppl, 3.3319407f0)\n",
      " 18.361661 seconds (216.63 k allocations: 130.439 MiB, 0.03% gc time)\n",
      "  0.577316 seconds (4.40 k allocations: 8.980 MiB)\n",
      "(:epoch, 33, :trnppl, 3.0575755f0, :tstppl, 3.3346858f0)\n",
      " 18.353312 seconds (216.17 k allocations: 130.432 MiB, 0.03% gc time)\n",
      "  0.577234 seconds (4.40 k allocations: 8.980 MiB)\n",
      "(:epoch, 34, :trnppl, 3.0479317f0, :tstppl, 3.3326092f0)\n",
      " 18.382719 seconds (216.25 k allocations: 130.433 MiB, 0.03% gc time)\n",
      "  0.578714 seconds (8.04 k allocations: 9.036 MiB, 0.17% gc time)\n",
      "(:epoch, 35, :trnppl, 3.037058f0, :tstppl, 3.3273687f0)\n",
      " 18.373598 seconds (216.43 k allocations: 130.436 MiB, 0.04% gc time)\n",
      "  0.576080 seconds (4.40 k allocations: 8.980 MiB)\n",
      "(:epoch, 36, :trnppl, 3.0264068f0, :tstppl, 3.3282042f0)\n",
      " 18.383383 seconds (216.17 k allocations: 130.432 MiB, 0.03% gc time)\n",
      "  0.577003 seconds (7.54 k allocations: 9.028 MiB, 0.17% gc time)\n",
      "(:epoch, 37, :trnppl, 3.0179677f0, :tstppl, 3.3299246f0)\n",
      " 18.386895 seconds (213.11 k allocations: 130.385 MiB, 0.03% gc time)\n",
      "  0.580091 seconds (8.23 k allocations: 9.039 MiB, 0.18% gc time)\n",
      "(:epoch, 38, :trnppl, 3.008091f0, :tstppl, 3.3188295f0)\n",
      " 18.368212 seconds (216.23 k allocations: 130.433 MiB, 0.04% gc time)\n",
      "  0.572411 seconds (4.40 k allocations: 8.980 MiB)\n",
      "(:epoch, 39, :trnppl, 2.9996786f0, :tstppl, 3.3138885f0)\n",
      " 18.375807 seconds (216.17 k allocations: 130.432 MiB, 0.03% gc time)\n",
      "  0.575576 seconds (7.74 k allocations: 9.031 MiB, 0.17% gc time)\n",
      "(:epoch, 40, :trnppl, 2.991416f0, :tstppl, 3.3082747f0)\n",
      " 18.357501 seconds (216.82 k allocations: 130.442 MiB, 0.03% gc time)\n",
      "  0.578503 seconds (4.40 k allocations: 8.980 MiB)\n",
      "(:epoch, 41, :trnppl, 2.983726f0, :tstppl, 3.3108745f0)\n",
      " 18.361718 seconds (216.16 k allocations: 130.432 MiB, 0.04% gc time)\n",
      "  0.577186 seconds (4.40 k allocations: 8.980 MiB)\n",
      "(:epoch, 42, :trnppl, 2.9762712f0, :tstppl, 3.3015785f0)\n",
      " 18.398697 seconds (216.17 k allocations: 130.432 MiB, 0.03% gc time)\n",
      "  0.576196 seconds (7.93 k allocations: 9.034 MiB, 0.18% gc time)\n",
      "(:epoch, 43, :trnppl, 2.969316f0, :tstppl, 3.299551f0)\n",
      " 18.414936 seconds (216.63 k allocations: 130.439 MiB, 0.03% gc time)\n",
      "  0.578381 seconds (4.40 k allocations: 8.980 MiB)\n",
      "(:epoch, 44, :trnppl, 2.9638133f0, :tstppl, 3.2987235f0)\n",
      " 18.419086 seconds (216.17 k allocations: 130.432 MiB, 0.03% gc time)\n",
      "  0.574754 seconds (4.40 k allocations: 8.980 MiB)\n",
      "(:epoch, 45, :trnppl, 2.9580631f0, :tstppl, 3.3039742f0)\n"
     ]
    },
    {
     "name": "stdout",
     "output_type": "stream",
     "text": [
      " 18.375170 seconds (216.25 k allocations: 130.433 MiB, 0.03% gc time)\n",
      "  0.576564 seconds (8.04 k allocations: 9.036 MiB, 0.18% gc time)\n",
      "(:epoch, 46, :trnppl, 2.9528632f0, :tstppl, 3.2962208f0)\n",
      " 18.360796 seconds (216.43 k allocations: 130.436 MiB, 0.03% gc time)\n",
      "  0.578960 seconds (4.40 k allocations: 8.980 MiB)\n",
      "(:epoch, 47, :trnppl, 2.9473572f0, :tstppl, 3.295634f0)\n",
      " 18.382327 seconds (216.17 k allocations: 130.432 MiB, 0.04% gc time)\n",
      "  0.580014 seconds (7.54 k allocations: 9.028 MiB, 0.19% gc time)\n",
      "(:epoch, 48, :trnppl, 2.9417865f0, :tstppl, 3.300782f0)\n",
      " 18.364350 seconds (213.11 k allocations: 130.385 MiB, 0.03% gc time)\n",
      "  0.574310 seconds (8.23 k allocations: 9.039 MiB, 0.19% gc time)\n",
      "(:epoch, 49, :trnppl, 2.9387174f0, :tstppl, 3.297684f0)\n",
      " 18.370900 seconds (216.23 k allocations: 130.433 MiB, 0.03% gc time)\n",
      "  0.577678 seconds (4.40 k allocations: 8.980 MiB)\n",
      "(:epoch, 50, :trnppl, 2.9316425f0, :tstppl, 3.2906218f0)\n",
      "948.078930 seconds (11.28 M allocations: 6.816 GiB, 0.03% gc time)\n"
     ]
    }
   ],
   "source": [
    "info(\"Training...\")\n",
    "@time for epoch in 1:EPOCHS\n",
    "    @time trnloss = train(rnn,weights,dtrn,optim) # ~18 seconds\n",
    "    @time tstloss = test(rnn,weights,dtst)        # ~0.5 seconds\n",
    "    println((:epoch, epoch, :trnppl, exp(trnloss), :tstppl, exp(tstloss)))\n",
    "end"
   ]
  },
  {
   "cell_type": "code",
   "execution_count": 91,
   "metadata": {},
   "outputs": [
    {
     "data": {
      "text/plain": [
       "Knet.RNN(168, 334, 1, 0.0, 0, 0, 2, 0, Float32, Knet.RD(Ptr{Void} @0x000000001aef2f30), Knet.DD(Ptr{Void} @0x000000001c90e7d0, Knet.KnetArray{UInt8,1}(Knet.KnetPtr(Ptr{Void} @0x000000810cdc0000, 638976, 1, nothing), (638976,))), Knet.KnetArray{Float32,3}(Knet.KnetPtr(Ptr{Void} @0x000000834d940000, 17203200, 1, nothing), (168, 256, 100)), Knet.KnetArray{Float32,3}(Knet.KnetPtr(Ptr{Void} @0x00000083ecdf3800, 342016, 1, nothing), (334, 256, 1)), Knet.KnetArray{Float32,3}(Knet.KnetPtr(Ptr{Void} @0x00000082f9793800, 342016, 1, nothing), (334, 256, 1)))"
      ]
     },
     "execution_count": 91,
     "metadata": {},
     "output_type": "execute_result"
    }
   ],
   "source": [
    "rnn"
   ]
  },
  {
   "cell_type": "code",
   "execution_count": 92,
   "metadata": {},
   "outputs": [],
   "source": [
    "using JLD\n",
    "@save \"shakespeare01.jld\" weights"
   ]
  },
  {
   "cell_type": "code",
   "execution_count": 93,
   "metadata": {},
   "outputs": [
    {
     "data": {
      "text/plain": [
       "(Knet.KnetArray{Float32,3}(Knet.KnetPtr(Ptr{Void} @0x000000810a480000, 2693376, 1, nothing), (1, 1, 673344)), Knet.KnetArray{Float32,2}(Knet.KnetPtr(Ptr{Void} @0x00000081053e8000, 56448, 1, nothing), (168, 84)), Knet.KnetArray{Float32,2}(Knet.KnetPtr(Ptr{Void} @0x0000008117aef800, 112224, 1, nothing), (84, 334)), Knet.KnetArray{Float32,2}(Knet.KnetPtr(Ptr{Void} @0x00000081052e0600, 336, 1, nothing), (84, 1)))"
      ]
     },
     "execution_count": 93,
     "metadata": {},
     "output_type": "execute_result"
    }
   ],
   "source": [
    "weights"
   ]
  },
  {
   "cell_type": "code",
   "execution_count": null,
   "metadata": {},
   "outputs": [],
   "source": []
  }
 ],
 "metadata": {
  "kernelspec": {
   "display_name": "Julia 0.6.1",
   "language": "julia",
   "name": "julia-0.6"
  },
  "language_info": {
   "file_extension": ".jl",
   "mimetype": "application/julia",
   "name": "julia",
   "version": "0.6.1"
  }
 },
 "nbformat": 4,
 "nbformat_minor": 2
}
