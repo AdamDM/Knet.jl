{
 "cells": [
  {
   "cell_type": "code",
   "execution_count": 6,
   "metadata": {
    "scrolled": true
   },
   "outputs": [
    {
     "name": "stderr",
     "output_type": "stream",
     "text": [
      "WARNING: replacing module VAE\n"
     ]
    },
    {
     "data": {
      "text/plain": [
       "VAE"
      ]
     },
     "execution_count": 6,
     "metadata": {},
     "output_type": "execute_result"
    }
   ],
   "source": [
    "include(\"vae_mnist.jl\")"
   ]
  },
  {
   "cell_type": "code",
   "execution_count": 7,
   "metadata": {},
   "outputs": [
    {
     "name": "stderr",
     "output_type": "stream",
     "text": [
      "\u001b[1m\u001b[36mINFO: \u001b[39m\u001b[22m\u001b[36musing Knet.KnetArray{Float32,N} where N\n",
      "\u001b[39m\u001b[1m\u001b[36mINFO: \u001b[39m\u001b[22m\u001b[36mLoading MNIST...\n",
      "\u001b[39m"
     ]
    },
    {
     "name": "stdout",
     "output_type": "stream",
     "text": [
      "(:epoch, 0, :trn, 0.6938711f0, :tst, 0.69385856f0)\n",
      "  0.000009 seconds (1 allocation: 32 bytes)\n"
     ]
    }
   ],
   "source": [
    "# obtain a non-trained network\n",
    "θ, ϕ = VAE.main(\"--infotime 10 --seed 1 --epochs 0\");"
   ]
  },
  {
   "cell_type": "code",
   "execution_count": 8,
   "metadata": {},
   "outputs": [
    {
     "data": {
      "image/png": "[encoded data removed]",
      "text/plain": [
       "146×146 Array{Gray{Float64},2}:\n",
       " Gray{Float64}(1.0)  Gray{Float64}(1.0)       Gray{Float64}(1.0)       …  Gray{Float64}(1.0)       Gray{Float64}(1.0)\n",
       " Gray{Float64}(1.0)  Gray{Float64}(0.475546)  Gray{Float64}(0.473078)     Gray{Float64}(0.45657)   Gray{Float64}(1.0)\n",
       " Gray{Float64}(1.0)  Gray{Float64}(0.48606)   Gray{Float64}(0.504057)     Gray{Float64}(0.504243)  Gray{Float64}(1.0)\n",
       " Gray{Float64}(1.0)  Gray{Float64}(0.482415)  Gray{Float64}(0.503801)     Gray{Float64}(0.491666)  Gray{Float64}(1.0)\n",
       " Gray{Float64}(1.0)  Gray{Float64}(0.521937)  Gray{Float64}(0.482322)     Gray{Float64}(0.472169)  Gray{Float64}(1.0)\n",
       " Gray{Float64}(1.0)  Gray{Float64}(0.491205)  Gray{Float64}(0.498722)  …  Gray{Float64}(0.51203)   Gray{Float64}(1.0)\n",
       " Gray{Float64}(1.0)  Gray{Float64}(0.503692)  Gray{Float64}(0.487555)     Gray{Float64}(0.532234)  Gray{Float64}(1.0)\n",
       " Gray{Float64}(1.0)  Gray{Float64}(0.465917)  Gray{Float64}(0.5075)       Gray{Float64}(0.511526)  Gray{Float64}(1.0)\n",
       " Gray{Float64}(1.0)  Gray{Float64}(0.517835)  Gray{Float64}(0.495836)     Gray{Float64}(0.493135)  Gray{Float64}(1.0)\n",
       " Gray{Float64}(1.0)  Gray{Float64}(0.518627)  Gray{Float64}(0.499724)     Gray{Float64}(0.507115)  Gray{Float64}(1.0)\n",
       " Gray{Float64}(1.0)  Gray{Float64}(0.527201)  Gray{Float64}(0.53118)   …  Gray{Float64}(0.514961)  Gray{Float64}(1.0)\n",
       " Gray{Float64}(1.0)  Gray{Float64}(0.510172)  Gray{Float64}(0.502845)     Gray{Float64}(0.527877)  Gray{Float64}(1.0)\n",
       " Gray{Float64}(1.0)  Gray{Float64}(0.483395)  Gray{Float64}(0.472014)     Gray{Float64}(0.501692)  Gray{Float64}(1.0)\n",
       " ⋮                                                                     ⋱                           ⋮                 \n",
       " Gray{Float64}(1.0)  Gray{Float64}(0.492673)  Gray{Float64}(0.526912)     Gray{Float64}(0.483713)  Gray{Float64}(1.0)\n",
       " Gray{Float64}(1.0)  Gray{Float64}(0.483506)  Gray{Float64}(0.507836)  …  Gray{Float64}(0.506123)  Gray{Float64}(1.0)\n",
       " Gray{Float64}(1.0)  Gray{Float64}(0.496051)  Gray{Float64}(0.469126)     Gray{Float64}(0.49014)   Gray{Float64}(1.0)\n",
       " Gray{Float64}(1.0)  Gray{Float64}(0.484661)  Gray{Float64}(0.497054)     Gray{Float64}(0.535165)  Gray{Float64}(1.0)\n",
       " Gray{Float64}(1.0)  Gray{Float64}(0.495731)  Gray{Float64}(0.487333)     Gray{Float64}(0.504477)  Gray{Float64}(1.0)\n",
       " Gray{Float64}(1.0)  Gray{Float64}(0.516083)  Gray{Float64}(0.505083)     Gray{Float64}(0.481097)  Gray{Float64}(1.0)\n",
       " Gray{Float64}(1.0)  Gray{Float64}(0.46103)   Gray{Float64}(0.504922)  …  Gray{Float64}(0.503629)  Gray{Float64}(1.0)\n",
       " Gray{Float64}(1.0)  Gray{Float64}(0.470915)  Gray{Float64}(0.519975)     Gray{Float64}(0.500056)  Gray{Float64}(1.0)\n",
       " Gray{Float64}(1.0)  Gray{Float64}(0.525705)  Gray{Float64}(0.548724)     Gray{Float64}(0.53253)   Gray{Float64}(1.0)\n",
       " Gray{Float64}(1.0)  Gray{Float64}(0.492548)  Gray{Float64}(0.510423)     Gray{Float64}(0.507146)  Gray{Float64}(1.0)\n",
       " Gray{Float64}(1.0)  Gray{Float64}(0.500794)  Gray{Float64}(0.469322)     Gray{Float64}(0.494079)  Gray{Float64}(1.0)\n",
       " Gray{Float64}(1.0)  Gray{Float64}(1.0)       Gray{Float64}(1.0)       …  Gray{Float64}(1.0)       Gray{Float64}(1.0)"
      ]
     },
     "metadata": {},
     "output_type": "display_data"
    }
   ],
   "source": [
    "# generate examples with the non-trained network\n",
    "VAE.plot_dream(θ);"
   ]
  },
  {
   "cell_type": "code",
   "execution_count": 9,
   "metadata": {},
   "outputs": [
    {
     "name": "stderr",
     "output_type": "stream",
     "text": [
      "\u001b[1m\u001b[36mINFO: \u001b[39m\u001b[22m\u001b[36musing Knet.KnetArray{Float32,N} where N\n",
      "\u001b[39m\u001b[1m\u001b[36mINFO: \u001b[39m\u001b[22m\u001b[36mLoading MNIST...\n",
      "\u001b[39m"
     ]
    },
    {
     "name": "stdout",
     "output_type": "stream",
     "text": [
      "(:epoch, 0, :trn, 0.6938713f0, :tst, 0.693885f0)\n",
      "(:epoch, 10, :trn, 0.13408284f0, :tst, 0.13369761f0)\n",
      "elapsed time: 19.485260151 seconds\n",
      "(:epoch, 20, :trn, 0.13159098f0, :tst, 0.13153899f0)\n",
      "elapsed time: 19.330580675 seconds\n",
      "(:epoch, 30, :trn, 0.13056506f0, :tst, 0.13059488f0)\n",
      "elapsed time: 19.464632778 seconds\n",
      "(:epoch, 40, :trn, 0.1299301f0, :tst, 0.13019581f0)\n",
      "elapsed time: 19.353558733 seconds\n",
      "(:epoch, 50, :trn, 0.12921026f0, :tst, 0.12959564f0)\n",
      "elapsed time: 19.345594172 seconds\n",
      "(:epoch, 60, :trn, 0.12900108f0, :tst, 0.12943001f0)\n",
      "elapsed time: 19.32226555 seconds\n",
      "(:epoch, 70, :trn, 0.12882307f0, :tst, 0.12936234f0)\n",
      "elapsed time: 19.318367426 seconds\n",
      "(:epoch, 80, :trn, 0.12842532f0, :tst, 0.12891111f0)\n",
      "elapsed time: 19.315226284 seconds\n",
      "(:epoch, 90, :trn, 0.12820135f0, :tst, 0.12884812f0)\n",
      "elapsed time: 19.305754936 seconds\n",
      "(:epoch, 100, :trn, 0.12784268f0, :tst, 0.12849765f0)\n",
      "elapsed time: 19.342646825 seconds\n",
      "193.584449 seconds (141.35 M allocations: 24.416 GiB, 1.86% gc time)\n"
     ]
    }
   ],
   "source": [
    "# train a VAE network for 100 epochs\n",
    "θ, ϕ = VAE.main(\"--infotime 10 --seed 1 --epochs 100\");"
   ]
  },
  {
   "cell_type": "code",
   "execution_count": 10,
   "metadata": {},
   "outputs": [
    {
     "data": {
      "image/png": "[encoded data removed]",
      "text/plain": [
       "146×146 Array{Gray{Float64},2}:\n",
       " Gray{Float64}(1.0)  Gray{Float64}(1.0)          …  Gray{Float64}(1.0)          Gray{Float64}(1.0)\n",
       " Gray{Float64}(1.0)  Gray{Float64}(2.72337e-13)     Gray{Float64}(1.87819e-10)  Gray{Float64}(1.0)\n",
       " Gray{Float64}(1.0)  Gray{Float64}(2.95775e-13)     Gray{Float64}(1.84244e-10)  Gray{Float64}(1.0)\n",
       " Gray{Float64}(1.0)  Gray{Float64}(4.70102e-13)     Gray{Float64}(1.60849e-10)  Gray{Float64}(1.0)\n",
       " Gray{Float64}(1.0)  Gray{Float64}(4.29947e-13)     Gray{Float64}(1.93922e-10)  Gray{Float64}(1.0)\n",
       " Gray{Float64}(1.0)  Gray{Float64}(2.95947e-13)  …  Gray{Float64}(2.81458e-11)  Gray{Float64}(1.0)\n",
       " Gray{Float64}(1.0)  Gray{Float64}(3.5595e-13)      Gray{Float64}(1.07375e-13)  Gray{Float64}(1.0)\n",
       " Gray{Float64}(1.0)  Gray{Float64}(1.90562e-13)     Gray{Float64}(3.18897e-10)  Gray{Float64}(1.0)\n",
       " Gray{Float64}(1.0)  Gray{Float64}(1.47928e-23)     Gray{Float64}(6.24507e-8)   Gray{Float64}(1.0)\n",
       " Gray{Float64}(1.0)  Gray{Float64}(8.3825e-26)      Gray{Float64}(9.30393e-9)   Gray{Float64}(1.0)\n",
       " Gray{Float64}(1.0)  Gray{Float64}(1.26482e-30)  …  Gray{Float64}(2.08083e-10)  Gray{Float64}(1.0)\n",
       " Gray{Float64}(1.0)  Gray{Float64}(6.31285e-35)     Gray{Float64}(5.16319e-8)   Gray{Float64}(1.0)\n",
       " Gray{Float64}(1.0)  Gray{Float64}(3.43512e-31)     Gray{Float64}(8.66905e-6)   Gray{Float64}(1.0)\n",
       " ⋮                                               ⋱                              ⋮                 \n",
       " Gray{Float64}(1.0)  Gray{Float64}(6.45912e-17)     Gray{Float64}(2.02025e-9)   Gray{Float64}(1.0)\n",
       " Gray{Float64}(1.0)  Gray{Float64}(1.51056e-17)  …  Gray{Float64}(2.72031e-9)   Gray{Float64}(1.0)\n",
       " Gray{Float64}(1.0)  Gray{Float64}(4.12712e-20)     Gray{Float64}(7.68759e-13)  Gray{Float64}(1.0)\n",
       " Gray{Float64}(1.0)  Gray{Float64}(4.74802e-17)     Gray{Float64}(1.36343e-15)  Gray{Float64}(1.0)\n",
       " Gray{Float64}(1.0)  Gray{Float64}(1.30265e-15)     Gray{Float64}(1.95642e-11)  Gray{Float64}(1.0)\n",
       " Gray{Float64}(1.0)  Gray{Float64}(1.60322e-15)     Gray{Float64}(1.01314e-11)  Gray{Float64}(1.0)\n",
       " Gray{Float64}(1.0)  Gray{Float64}(2.47922e-17)  …  Gray{Float64}(1.43567e-9)   Gray{Float64}(1.0)\n",
       " Gray{Float64}(1.0)  Gray{Float64}(3.9074e-17)      Gray{Float64}(1.66204e-9)   Gray{Float64}(1.0)\n",
       " Gray{Float64}(1.0)  Gray{Float64}(3.59101e-17)     Gray{Float64}(2.05263e-9)   Gray{Float64}(1.0)\n",
       " Gray{Float64}(1.0)  Gray{Float64}(2.4024e-17)      Gray{Float64}(2.26736e-9)   Gray{Float64}(1.0)\n",
       " Gray{Float64}(1.0)  Gray{Float64}(1.92085e-17)     Gray{Float64}(1.993e-9)     Gray{Float64}(1.0)\n",
       " Gray{Float64}(1.0)  Gray{Float64}(1.0)          …  Gray{Float64}(1.0)          Gray{Float64}(1.0)"
      ]
     },
     "metadata": {},
     "output_type": "display_data"
    }
   ],
   "source": [
    "# generate examples with the trained network\n",
    "VAE.plot_dream(θ);"
   ]
  }
 ],
 "metadata": {
  "kernelspec": {
   "display_name": "Julia 0.6.1",
   "language": "julia",
   "name": "julia-0.6"
  },
  "language_info": {
   "file_extension": ".jl",
   "mimetype": "application/julia",
   "name": "julia",
   "version": "0.6.1"
  }
 },
 "nbformat": 4,
 "nbformat_minor": 2
}
