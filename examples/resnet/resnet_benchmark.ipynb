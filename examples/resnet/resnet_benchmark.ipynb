{
 "cells": [
  {
   "cell_type": "code",
   "execution_count": 1,
   "metadata": {},
   "outputs": [],
   "source": [
    "using Knet\n",
    "include(Knet.dir(\"examples\",\"resnet\", \"resnetlib.jl\"))\n",
    "using ResNetLib: resnet50init, resnet50"
   ]
  },
  {
   "cell_type": "code",
   "execution_count": 2,
   "metadata": {},
   "outputs": [
    {
     "name": "stdout",
     "output_type": "stream",
     "text": [
      "12\n"
     ]
    }
   ],
   "source": [
    ";cat /proc/cpuinfo '|' grep processor '|' wc -l"
   ]
  },
  {
   "cell_type": "code",
   "execution_count": 3,
   "metadata": {},
   "outputs": [
    {
     "name": "stdout",
     "output_type": "stream",
     "text": [
      "name\n",
      "Tesla K20m\n"
     ]
    }
   ],
   "source": [
    "run(`nvidia-smi --query-gpu=gpu_name --format=csv`)"
   ]
  },
  {
   "cell_type": "code",
   "execution_count": 4,
   "metadata": {},
   "outputs": [
    {
     "data": {
      "text/plain": [
       "8"
      ]
     },
     "execution_count": 4,
     "metadata": {},
     "output_type": "execute_result"
    }
   ],
   "source": [
    "const BATCH_SIZE = 32\n",
    "const RESNET_FEATURES = 2048\n",
    "const BATCHES_GPU = 40\n",
    "const BATCHES_CPU = 8"
   ]
  },
  {
   "cell_type": "code",
   "execution_count": 5,
   "metadata": {},
   "outputs": [
    {
     "data": {
      "text/plain": [
       "fakedata (generic function with 1 method)"
      ]
     },
     "execution_count": 5,
     "metadata": {},
     "output_type": "execute_result"
    }
   ],
   "source": [
    "function fakedata(batches)\n",
    "    srand(0)\n",
    "    x = rand(Float32, 224, 224, 3, BATCH_SIZE * batches)\n",
    "    return x\n",
    "end"
   ]
  },
  {
   "cell_type": "code",
   "execution_count": 6,
   "metadata": {},
   "outputs": [
    {
     "data": {
      "text/plain": [
       "predictfn (generic function with 1 method)"
      ]
     },
     "execution_count": 6,
     "metadata": {},
     "output_type": "execute_result"
    }
   ],
   "source": [
    "function predictfn(w, m, x, bsize; atype=KnetArray)\n",
    "    dataset = minibatch(x,\n",
    "                        Array(1:size(x,4)), bsize;\n",
    "                        xtype=atype)\n",
    "    out = zeros(Float32, RESNET_FEATURES, size(x,4))\n",
    "    idx = 1\n",
    "    for (x, _) in dataset\n",
    "        pred = Array(mat(resnet50(w, m, x; stage=5)))\n",
    "        out[:, (idx-1)*bsize+1:idx*bsize] = pred\n",
    "        idx += 1\n",
    "    end\n",
    "    return out\n",
    "end"
   ]
  },
  {
   "cell_type": "markdown",
   "metadata": {},
   "source": [
    "## GPU"
   ]
  },
  {
   "cell_type": "code",
   "execution_count": 7,
   "metadata": {},
   "outputs": [
    {
     "name": "stderr",
     "output_type": "stream",
     "text": [
      "\u001b[1m\u001b[36mINFO: \u001b[39m\u001b[22m\u001b[36mLoading pretrained weights...\n",
      "\u001b[39m\u001b[1m\u001b[36mINFO: \u001b[39m\u001b[22m\u001b[36mBenchmarking\n",
      "\u001b[39m"
     ]
    },
    {
     "name": "stdout",
     "output_type": "stream",
     "text": [
      " 12.282152 seconds (345.14 k allocations: 770.172 MiB, 29.23% gc time)\n"
     ]
    }
   ],
   "source": [
    "w, m = resnet50init(;stage=5, trained=true)\n",
    "x = fakedata(BATCHES_GPU)\n",
    "cold_start = predictfn(w, m, x, BATCH_SIZE)\n",
    "info(\"Benchmarking\")\n",
    "@time begin\n",
    "    y = predictfn(w, m, x, BATCH_SIZE)\n",
    "end\n",
    "nothing"
   ]
  },
  {
   "cell_type": "markdown",
   "metadata": {},
   "source": [
    "## CPU"
   ]
  },
  {
   "cell_type": "code",
   "execution_count": null,
   "metadata": {},
   "outputs": [],
   "source": [
    "temp = gpu()\n",
    "gpu(-1)\n",
    "w, m = resnet50init(;stage=5, trained=true, atype=Array)\n",
    "x = fakedata(BATCHES_CPU)\n",
    "info(\"running cold start\")\n",
    "cold_start = predictfn(w, m, x, BATCH_SIZE; atype=Array)\n",
    "info(\"running benchmark\")\n",
    "@time begin\n",
    "    y = predictfn(w, m, x, BATCH_SIZE; atype=Array)\n",
    "end\n",
    "gpu(temp)"
   ]
  }
 ],
 "metadata": {
  "kernelspec": {
   "display_name": "Julia 0.6.1",
   "language": "julia",
   "name": "julia-0.6"
  },
  "language_info": {
   "file_extension": ".jl",
   "mimetype": "application/julia",
   "name": "julia",
   "version": "0.6.1"
  }
 },
 "nbformat": 4,
 "nbformat_minor": 2
}
