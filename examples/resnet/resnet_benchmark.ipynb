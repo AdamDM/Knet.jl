{
 "cells": [
  {
   "cell_type": "code",
   "execution_count": null,
   "metadata": {},
   "outputs": [],
   "source": [
    "# GPU: 32*40 in ?.??s = ???/s\n",
    "# CPU: 32*8 in ??.?s = ?/s"
   ]
  },
  {
   "cell_type": "code",
   "execution_count": null,
   "metadata": {},
   "outputs": [],
   "source": [
    "#Pkg.checkout(\"Knet\",\"ilkarman\") # make sure we have the right Knet version\n",
    "#Pkg.build(\"Knet\")\n",
    "using Knet\n",
    "include(Knet.dir(\"examples\",\"resnet\", \"resnetlib.jl\"))\n",
    "using ResNetLib: resnet50init, resnet50\n",
    "println(\"OS: \", Sys.KERNEL)\n",
    "println(\"Julia: \", VERSION)\n",
    "println(\"Knet: \", Pkg.installed(\"Knet\"))"
   ]
  },
  {
   "cell_type": "code",
   "execution_count": null,
   "metadata": {},
   "outputs": [],
   "source": [
    ";cat /proc/cpuinfo '|' grep processor '|' wc -l"
   ]
  },
  {
   "cell_type": "code",
   "execution_count": null,
   "metadata": {},
   "outputs": [],
   "source": [
    ";nvidia-smi --query-gpu=gpu_name --format=csv"
   ]
  },
  {
   "cell_type": "code",
   "execution_count": null,
   "metadata": {},
   "outputs": [],
   "source": [
    "const BATCH_SIZE = 32\n",
    "const RESNET_FEATURES = 2048\n",
    "const BATCHES_GPU = 40\n",
    "const BATCHES_CPU = 8"
   ]
  },
  {
   "cell_type": "code",
   "execution_count": null,
   "metadata": {},
   "outputs": [],
   "source": [
    "# Create batches of fake data\n",
    "function fakedata(batches; atype=KnetArray)\n",
    "    x = rand(Float32, 224, 224, 3, BATCH_SIZE * batches)\n",
    "    minibatch(x, BATCH_SIZE, xtype=atype)\n",
    "end"
   ]
  },
  {
   "cell_type": "code",
   "execution_count": null,
   "metadata": {},
   "outputs": [],
   "source": [
    "# Return features from classifier\n",
    "function predictfn(weights, moments, data)\n",
    "    out = Any[]\n",
    "    for x in data\n",
    "        pred = resnet50(weights, moments, x; stage=5)\n",
    "        push!(out, mat(pred))\n",
    "    end\n",
    "    return hcat(out...)\n",
    "end"
   ]
  },
  {
   "cell_type": "markdown",
   "metadata": {},
   "source": [
    "## 1. GPU"
   ]
  },
  {
   "cell_type": "code",
   "execution_count": null,
   "metadata": {},
   "outputs": [],
   "source": [
    "# Initialize resnet weights and fake data\n",
    "gpuweights, gpumoments = resnet50init(;stage=5, trained=true, atype=KnetArray)\n",
    "gpudata = fakedata(BATCHES_GPU, atype=KnetArray);"
   ]
  },
  {
   "cell_type": "code",
   "execution_count": null,
   "metadata": {},
   "outputs": [],
   "source": [
    "info(\"Cold start\")\n",
    "@time predictfn(gpuweights, gpumoments, gpudata);"
   ]
  },
  {
   "cell_type": "code",
   "execution_count": null,
   "metadata": {},
   "outputs": [],
   "source": [
    "info(\"Benchmarking\")\n",
    "@time predictfn(gpuweights, gpumoments, gpudata);"
   ]
  },
  {
   "cell_type": "markdown",
   "metadata": {},
   "source": [
    "## 2. CPU"
   ]
  },
  {
   "cell_type": "code",
   "execution_count": null,
   "metadata": {},
   "outputs": [],
   "source": [
    "# Initialize resnet weights and data\n",
    "cpuweights, cpumoments = resnet50init(;stage=5, trained=true, atype=Array)\n",
    "cpudata = fakedata(BATCHES_CPU, atype=Array);"
   ]
  },
  {
   "cell_type": "code",
   "execution_count": null,
   "metadata": {},
   "outputs": [],
   "source": [
    "info(\"Cold start\")\n",
    "@time predictfn(cpuweights, cpumoments, cpudata);"
   ]
  },
  {
   "cell_type": "code",
   "execution_count": null,
   "metadata": {},
   "outputs": [],
   "source": [
    "info(\"Benchmarking\")\n",
    "@time predictfn(cpuweights, cpumoments, cpudata);"
   ]
  }
 ],
 "metadata": {
  "kernelspec": {
   "display_name": "Julia 0.6.1",
   "language": "julia",
   "name": "julia-0.6"
  },
  "language_info": {
   "file_extension": ".jl",
   "mimetype": "application/julia",
   "name": "julia",
   "version": "0.6.1"
  }
 },
 "nbformat": 4,
 "nbformat_minor": 2
}
