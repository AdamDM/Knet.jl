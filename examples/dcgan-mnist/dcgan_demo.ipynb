{
 "cells": [
  {
   "cell_type": "code",
   "execution_count": 1,
   "metadata": {
    "collapsed": false
   },
   "outputs": [],
   "source": [
    "include(\"dcgan.jl\");"
   ]
  },
  {
   "cell_type": "code",
   "execution_count": 2,
   "metadata": {
    "collapsed": false
   },
   "outputs": [],
   "source": [
    "z = DCGAN.sample_noise(Knet.KnetArray{Float32},100,64);"
   ]
  },
  {
   "cell_type": "code",
   "execution_count": 3,
   "metadata": {
    "collapsed": false,
    "scrolled": true
   },
   "outputs": [
    {
     "name": "stderr",
     "output_type": "stream",
     "text": [
      "\u001b[1m\u001b[36mINFO: \u001b[39m\u001b[22m\u001b[36mLoading MNIST...\n",
      "\u001b[39m"
     ]
    },
    {
     "name": "stdout",
     "output_type": "stream",
     "text": [
      "training started...\n"
     ]
    }
   ],
   "source": [
    "wd, wg, md, mg = DCGAN.main(\"--epochs 0 --seed 1\");"
   ]
  },
  {
   "cell_type": "code",
   "execution_count": 4,
   "metadata": {
    "collapsed": false
   },
   "outputs": [
    {
     "data": {
      "image/png": "[encoded data removed]",
      "text/plain": [
       "233×233 Array{Gray{Float64},2}:\n",
       " Gray{Float64}(1.0)  Gray{Float64}(1.0)       …  Gray{Float64}(1.0)\n",
       " Gray{Float64}(1.0)  Gray{Float64}(0.500948)     Gray{Float64}(1.0)\n",
       " Gray{Float64}(1.0)  Gray{Float64}(0.500948)     Gray{Float64}(1.0)\n",
       " Gray{Float64}(1.0)  Gray{Float64}(0.500948)     Gray{Float64}(1.0)\n",
       " Gray{Float64}(1.0)  Gray{Float64}(0.500948)     Gray{Float64}(1.0)\n",
       " Gray{Float64}(1.0)  Gray{Float64}(0.500948)  …  Gray{Float64}(1.0)\n",
       " Gray{Float64}(1.0)  Gray{Float64}(0.500948)     Gray{Float64}(1.0)\n",
       " Gray{Float64}(1.0)  Gray{Float64}(0.500948)     Gray{Float64}(1.0)\n",
       " Gray{Float64}(1.0)  Gray{Float64}(0.500947)     Gray{Float64}(1.0)\n",
       " Gray{Float64}(1.0)  Gray{Float64}(0.500948)     Gray{Float64}(1.0)\n",
       " Gray{Float64}(1.0)  Gray{Float64}(0.500947)  …  Gray{Float64}(1.0)\n",
       " Gray{Float64}(1.0)  Gray{Float64}(0.500948)     Gray{Float64}(1.0)\n",
       " Gray{Float64}(1.0)  Gray{Float64}(0.500948)     Gray{Float64}(1.0)\n",
       " ⋮                                            ⋱                    \n",
       " Gray{Float64}(1.0)  Gray{Float64}(0.500948)     Gray{Float64}(1.0)\n",
       " Gray{Float64}(1.0)  Gray{Float64}(0.500948)     Gray{Float64}(1.0)\n",
       " Gray{Float64}(1.0)  Gray{Float64}(0.500947)     Gray{Float64}(1.0)\n",
       " Gray{Float64}(1.0)  Gray{Float64}(0.500948)     Gray{Float64}(1.0)\n",
       " Gray{Float64}(1.0)  Gray{Float64}(0.500948)  …  Gray{Float64}(1.0)\n",
       " Gray{Float64}(1.0)  Gray{Float64}(0.500948)     Gray{Float64}(1.0)\n",
       " Gray{Float64}(1.0)  Gray{Float64}(0.500948)     Gray{Float64}(1.0)\n",
       " Gray{Float64}(1.0)  Gray{Float64}(0.500948)     Gray{Float64}(1.0)\n",
       " Gray{Float64}(1.0)  Gray{Float64}(0.500948)     Gray{Float64}(1.0)\n",
       " Gray{Float64}(1.0)  Gray{Float64}(0.500948)  …  Gray{Float64}(1.0)\n",
       " Gray{Float64}(1.0)  Gray{Float64}(0.500948)     Gray{Float64}(1.0)\n",
       " Gray{Float64}(1.0)  Gray{Float64}(1.0)          Gray{Float64}(1.0)"
      ]
     },
     "metadata": {},
     "output_type": "display_data"
    }
   ],
   "source": [
    "DCGAN.plot_generations(wg, mg; z=z);"
   ]
  },
  {
   "cell_type": "code",
   "execution_count": 5,
   "metadata": {
    "collapsed": false
   },
   "outputs": [
    {
     "name": "stdout",
     "output_type": "stream",
     "text": [
      "training started...\n",
      " 39.936505 seconds (11.82 M allocations: 861.047 MiB, 23.46% gc time)\n",
      "(:epoch, 1, :dloss, 1.0497113f0, :gloss, 1.0257952f0)\n",
      " 14.764250 seconds (8.73 M allocations: 695.815 MiB, 1.66% gc time)\n",
      "(:epoch, 2, :dloss, 0.9416029f0, :gloss, 1.202805f0)\n",
      " 14.776435 seconds (8.70 M allocations: 695.475 MiB, 1.55% gc time)\n",
      "(:epoch, 3, :dloss, 0.8634243f0, :gloss, 1.3345245f0)\n",
      " 14.761694 seconds (8.73 M allocations: 695.878 MiB, 1.63% gc time)\n",
      "(:epoch, 4, :dloss, 0.7969429f0, :gloss, 1.4560585f0)\n",
      " 14.770326 seconds (8.73 M allocations: 695.878 MiB, 1.63% gc time)\n",
      "(:epoch, 5, :dloss, 0.7574002f0, :gloss, 1.538739f0)\n",
      " 14.772953 seconds (8.70 M allocations: 695.475 MiB, 1.60% gc time)\n",
      "(:epoch, 6, :dloss, 0.7106763f0, :gloss, 1.6369152f0)\n",
      " 14.764927 seconds (8.73 M allocations: 695.878 MiB, 1.62% gc time)\n",
      "(:epoch, 7, :dloss, 0.6841872f0, :gloss, 1.7180026f0)\n",
      " 14.748503 seconds (8.70 M allocations: 695.475 MiB, 1.59% gc time)\n",
      "(:epoch, 8, :dloss, 0.65995353f0, :gloss, 1.7711227f0)\n",
      " 14.774072 seconds (8.73 M allocations: 695.878 MiB, 1.64% gc time)\n",
      "(:epoch, 9, :dloss, 0.6371496f0, :gloss, 1.8355758f0)\n",
      " 14.790812 seconds (8.70 M allocations: 695.475 MiB, 1.60% gc time)\n",
      "(:epoch, 10, :dloss, 0.622639f0, :gloss, 1.8827796f0)\n"
     ]
    }
   ],
   "source": [
    "wd, wg, md, mg = DCGAN.main(\"--epochs 10 --seed 1\");"
   ]
  },
  {
   "cell_type": "code",
   "execution_count": 6,
   "metadata": {
    "collapsed": false
   },
   "outputs": [
    {
     "data": {
      "image/png": "[encoded data removed]",
      "text/plain": [
       "233×233 Array{Gray{Float64},2}:\n",
       " Gray{Float64}(1.0)  Gray{Float64}(1.0)          …  Gray{Float64}(1.0)\n",
       " Gray{Float64}(1.0)  Gray{Float64}(0.10252)         Gray{Float64}(1.0)\n",
       " Gray{Float64}(1.0)  Gray{Float64}(0.0358987)       Gray{Float64}(1.0)\n",
       " Gray{Float64}(1.0)  Gray{Float64}(0.0158152)       Gray{Float64}(1.0)\n",
       " Gray{Float64}(1.0)  Gray{Float64}(0.00451905)      Gray{Float64}(1.0)\n",
       " Gray{Float64}(1.0)  Gray{Float64}(0.00136071)   …  Gray{Float64}(1.0)\n",
       " Gray{Float64}(1.0)  Gray{Float64}(0.00145125)      Gray{Float64}(1.0)\n",
       " Gray{Float64}(1.0)  Gray{Float64}(0.00151789)      Gray{Float64}(1.0)\n",
       " Gray{Float64}(1.0)  Gray{Float64}(0.000718027)     Gray{Float64}(1.0)\n",
       " Gray{Float64}(1.0)  Gray{Float64}(0.00105152)      Gray{Float64}(1.0)\n",
       " Gray{Float64}(1.0)  Gray{Float64}(0.00160754)   …  Gray{Float64}(1.0)\n",
       " Gray{Float64}(1.0)  Gray{Float64}(0.00134888)      Gray{Float64}(1.0)\n",
       " Gray{Float64}(1.0)  Gray{Float64}(0.000497699)     Gray{Float64}(1.0)\n",
       " ⋮                                               ⋱                    \n",
       " Gray{Float64}(1.0)  Gray{Float64}(0.00161904)      Gray{Float64}(1.0)\n",
       " Gray{Float64}(1.0)  Gray{Float64}(0.00398886)      Gray{Float64}(1.0)\n",
       " Gray{Float64}(1.0)  Gray{Float64}(0.00381958)      Gray{Float64}(1.0)\n",
       " Gray{Float64}(1.0)  Gray{Float64}(0.00676203)      Gray{Float64}(1.0)\n",
       " Gray{Float64}(1.0)  Gray{Float64}(0.00853059)   …  Gray{Float64}(1.0)\n",
       " Gray{Float64}(1.0)  Gray{Float64}(0.00584367)      Gray{Float64}(1.0)\n",
       " Gray{Float64}(1.0)  Gray{Float64}(0.00402114)      Gray{Float64}(1.0)\n",
       " Gray{Float64}(1.0)  Gray{Float64}(0.00686997)      Gray{Float64}(1.0)\n",
       " Gray{Float64}(1.0)  Gray{Float64}(0.00969076)      Gray{Float64}(1.0)\n",
       " Gray{Float64}(1.0)  Gray{Float64}(0.0345155)    …  Gray{Float64}(1.0)\n",
       " Gray{Float64}(1.0)  Gray{Float64}(0.125122)        Gray{Float64}(1.0)\n",
       " Gray{Float64}(1.0)  Gray{Float64}(1.0)             Gray{Float64}(1.0)"
      ]
     },
     "metadata": {},
     "output_type": "display_data"
    }
   ],
   "source": [
    "DCGAN.plot_generations(wg, mg; z=z)"
   ]
  }
 ],
 "metadata": {
  "kernelspec": {
   "display_name": "Julia 0.6.2",
   "language": "julia",
   "name": "julia-0.6"
  },
  "language_info": {
   "file_extension": ".jl",
   "mimetype": "application/julia",
   "name": "julia",
   "version": "0.6.2"
  }
 },
 "nbformat": 4,
 "nbformat_minor": 2
}
